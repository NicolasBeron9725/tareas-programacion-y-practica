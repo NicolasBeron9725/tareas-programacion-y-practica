{
  "cells": [
    {
      "cell_type": "markdown",
      "metadata": {
        "id": "WJmKe3okpUAT"
      },
      "source": [
        "## Ejercicio\n",
        "\n",
        "Escribir un programa que gestione las facturas pendientes de cobro de una empresa. Las facturas se almacenarán en un diccionario donde la clave de cada factura será el número de factura y el valor el coste de la factura. El programa debe preguntar al usuario si quiere añadir una nueva factura, pagar una existente o terminar. Si desea añadir una nueva factura se preguntará por el número de factura y su coste y se añadirá al diccionario. Si se desea pagar una factura se preguntará por el número de factura y se eliminará del diccionario. Después de cada operación el programa debe mostrar por pantalla la cantidad cobrada hasta el momento y la cantidad pendiente de cobro."
      ]
    },
    {
      "cell_type": "markdown",
      "metadata": {
        "id": "UeBtqGV4pUAW"
      },
      "source": [
        "## Solución"
      ]
    },
    {
      "cell_type": "code",
      "execution_count": null,
      "metadata": {
        "id": "kqH4iXalpUAX"
      },
      "outputs": [],
      "source": [
        "facturas = {}\n",
        "cobradas = 0\n",
        "\n",
        "while True:\n",
        "    accion = input(\"¿Quieres añadir, pagar o terminar? \").lower()\n",
        "    \n",
        "    if accion == \"añadir\":\n",
        "        num = input(\"Número de factura: \")\n",
        "        coste = float(input(\"Coste de la factura: \"))\n",
        "        facturas[num] = coste\n",
        "        print(f\"Factura {num} añadida.\")\n",
        "    elif accion == \"pagar\":\n",
        "        num = input(\"Número de factura a pagar: \")\n",
        "        if num in facturas:\n",
        "            cobradas += facturas[num]\n",
        "            del facturas[num]\n",
        "            print(f\"Factura {num} pagada.\")\n",
        "        else:\n",
        "            print(\"No existe esa factura.\")\n",
        "    elif accion == \"terminar\":\n",
        "        break\n",
        "    else:\n",
        "        print(\"Opción no válida.\")\n",
        "\n",
        "    print(\"Cantidad cobrada hasta ahora:\", cobradas)\n",
        "    print(\"Cantidad pendiente de cobro:\", sum(facturas.values()))"
      ]
    }
  ],
  "metadata": {
    "colab": {
      "provenance": []
    },
    "kernelspec": {
      "display_name": "Python 3",
      "language": "python",
      "name": "python3"
    },
    "language_info": {
      "codemirror_mode": {
        "name": "ipython",
        "version": 3
      },
      "file_extension": ".py",
      "mimetype": "text/x-python",
      "name": "python",
      "nbconvert_exporter": "python",
      "pygments_lexer": "ipython3",
      "version": "3.6.8"
    }
  },
  "nbformat": 4,
  "nbformat_minor": 0
}
