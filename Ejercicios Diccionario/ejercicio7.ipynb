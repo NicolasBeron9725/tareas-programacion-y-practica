{
  "cells": [
    {
      "cell_type": "markdown",
      "metadata": {
        "id": "hjqfFqIbpD4k"
      },
      "source": [
        "## Ejercicio\n",
        "\n",
        "Escribir un programa que cree un diccionario simulando una cesta de la compra. El programa debe preguntar el artículo y su precio y añadir el par al diccionario, hasta que el usuario decida terminar. Después se debe mostrar por pantalla la lista de la compra y el coste total, con el siguiente formato\n",
        "\n",
        "|Lista de la compra| |\n",
        "|:-|-:|\n",
        "|Artículo 1 | Precio|\n",
        "|Artículo 2 | Precio|\n",
        "|Artículo 3 | Precio|\n",
        "|...| ...|\n",
        "|Total| Coste|\n"
      ]
    },
    {
      "cell_type": "markdown",
      "metadata": {
        "id": "n7UaguqfpD4m"
      },
      "source": [
        "## Solución"
      ]
    },
    {
      "cell_type": "code",
      "execution_count": null,
      "metadata": {
        "id": "MO75qrZApD4n"
      },
      "outputs": [],
      "source": [
        "cesta = {}\n",
        "while True:\n",
        "    articulo = input(\"Artículo (o 'fin' para terminar): \")\n",
        "    if articulo == 'fin':\n",
        "        break\n",
        "    precio = float(input(\"Precio: \"))\n",
        "    cesta[articulo] = precio\n",
        "total = 0\n",
        "print(\"Lista de compra:\")\n",
        "for articulo, precio in cesta.items():\n",
        "    print(f\"{articulo}: {precio} $\")\n",
        "    total += precio\n",
        "\n",
        "print(\"Total:\", total, \"$\")\n"
      ]
    }
  ],
  "metadata": {
    "colab": {
      "provenance": []
    },
    "kernelspec": {
      "display_name": "Python 3",
      "language": "python",
      "name": "python3"
    },
    "language_info": {
      "codemirror_mode": {
        "name": "ipython",
        "version": 3
      },
      "file_extension": ".py",
      "mimetype": "text/x-python",
      "name": "python",
      "nbconvert_exporter": "python",
      "pygments_lexer": "ipython3",
      "version": "3.13.7"
    }
  },
  "nbformat": 4,
  "nbformat_minor": 0
}
