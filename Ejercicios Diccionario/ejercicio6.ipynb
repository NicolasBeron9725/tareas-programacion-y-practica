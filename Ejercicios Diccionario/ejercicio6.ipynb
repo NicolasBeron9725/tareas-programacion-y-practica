{
  "cells": [
    {
      "cell_type": "markdown",
      "metadata": {
        "id": "y3CzbCp9o37L"
      },
      "source": [
        "## Ejercicio\n",
        "\n",
        "Escribir un programa que cree un diccionario vacío y lo vaya llenado con información sobre una persona (por ejemplo nombre, edad, sexo, teléfono, correo electrónico, etc.) que se le pida al usuario. Cada vez que se añada un nuevo dato debe imprimirse el contenido del diccionario."
      ]
    },
    {
      "cell_type": "markdown",
      "metadata": {
        "id": "KQ1cZgk3o37N"
      },
      "source": [
        "## Solución"
      ]
    },
    {
      "cell_type": "code",
      "execution_count": null,
      "metadata": {
        "id": "0kvJQs2Fo37O"
      },
      "outputs": [],
      "source": [
        "persona = {}\n",
        "\n",
        "for campo in ['nombre', 'edad', 'sexo', 'teléfono', 'correo electrónico']:\n",
        "    valor = input(f\"Introduce {campo}: \")\n",
        "    persona[campo] = valor\n",
        "\n",
        "print(\"\\nDatos finales de la persona:\")\n",
        "for campo, valor in persona.items():\n",
        "    print(f\"{campo.capitalize()}: {valor}\")\n",
        "\n"
      ]
    }
  ],
  "metadata": {
    "colab": {
      "provenance": []
    },
    "kernelspec": {
      "display_name": "Python 3",
      "language": "python",
      "name": "python3"
    },
    "language_info": {
      "codemirror_mode": {
        "name": "ipython",
        "version": 3
      },
      "file_extension": ".py",
      "mimetype": "text/x-python",
      "name": "python",
      "nbconvert_exporter": "python",
      "pygments_lexer": "ipython3",
      "version": "3.13.7"
    }
  },
  "nbformat": 4,
  "nbformat_minor": 0
}
