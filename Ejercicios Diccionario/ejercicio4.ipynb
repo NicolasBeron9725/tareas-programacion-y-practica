{
  "cells": [
    {
      "cell_type": "markdown",
      "metadata": {
        "id": "T5o6Ls8LoKzb"
      },
      "source": [
        "## Ejercicio\n",
        "\n",
        "Escribir un programa que pregunte una fecha en formato `dd/mm/aaaa` y muestre por pantalla la misma fecha en formato `dd de <mes> de aaaa` donde `<mes>` es el nombre del mes."
      ]
    },
    {
      "cell_type": "markdown",
      "metadata": {
        "id": "AOj6XGweoKzd"
      },
      "source": [
        "## Solución"
      ]
    },
    {
      "cell_type": "code",
      "execution_count": null,
      "metadata": {
        "id": "mek1lQoAoKze"
      },
      "outputs": [],
      "source": [
        "meses = {1:'enero', 2:'febrero', 3:'marzo', 4:'abril', 5:'mayo', 6:'junio', 7:'julio', 8:'agosto', 9:'septiembre', 10:'octubre', 11:'noviembre', 12:'diciembre'}\n",
        "fecha = input(\"Introduce una fecha en formato dd/mm/aaaa: \")\n",
        "dia, mes, anio = fecha.split(\"/\")\n",
        "mes = int(mes)\n",
        "print(f\"{dia} de {meses[mes]} de {anio}\")\n"
      ]
    }
  ],
  "metadata": {
    "colab": {
      "provenance": []
    },
    "kernelspec": {
      "display_name": "Python 3",
      "language": "python",
      "name": "python3"
    },
    "language_info": {
      "codemirror_mode": {
        "name": "ipython",
        "version": 3
      },
      "file_extension": ".py",
      "mimetype": "text/x-python",
      "name": "python",
      "nbconvert_exporter": "python",
      "pygments_lexer": "ipython3",
      "version": "3.13.7"
    }
  },
  "nbformat": 4,
  "nbformat_minor": 0
}
