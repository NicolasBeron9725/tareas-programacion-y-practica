{
  "cells": [
    {
      "cell_type": "markdown",
      "metadata": {
        "id": "0UixrZUfoSjl"
      },
      "source": [
        "## Ejercicio\n",
        "\n",
        "Escribir un programa que almacene el diccionario con los créditos de las asignaturas de un curso `{'Matemáticas': 6, 'Física': 4, 'Química': 5}` y después muestre por pantalla los créditos de cada asignatura en el formato `<asignatura> tiene <créditos> créditos`, donde `<asignatura>` es cada una de las asignaturas del curso, y `<créditos>` son sus créditos. Al final debe mostrar también el número total de créditos del curso."
      ]
    },
    {
      "cell_type": "markdown",
      "metadata": {
        "id": "wIyr9Au2oSjn"
      },
      "source": [
        "## Solución"
      ]
    },
    {
      "cell_type": "code",
      "execution_count": null,
      "metadata": {
        "id": "kpAaZgS9oSjo"
      },
      "outputs": [],
      "source": [
        "curso = {'Matemáticas': 6, 'Física': 4, 'Química': 5}\n",
        "total_creditos = 0\n",
        "for asignatura, creditos in curso.items():\n",
        "    print(f\"{asignatura} tiene {creditos} créditos\")\n",
        "    total_creditos += creditos\n",
        "print(f\"El número total de créditos del curso es {total_creditos}\")\n"
      ]
    }
  ],
  "metadata": {
    "colab": {
      "provenance": []
    },
    "kernelspec": {
      "display_name": "Python 3",
      "language": "python",
      "name": "python3"
    },
    "language_info": {
      "codemirror_mode": {
        "name": "ipython",
        "version": 3
      },
      "file_extension": ".py",
      "mimetype": "text/x-python",
      "name": "python",
      "nbconvert_exporter": "python",
      "pygments_lexer": "ipython3",
      "version": "3.13.7"
    }
  },
  "nbformat": 4,
  "nbformat_minor": 0
}
