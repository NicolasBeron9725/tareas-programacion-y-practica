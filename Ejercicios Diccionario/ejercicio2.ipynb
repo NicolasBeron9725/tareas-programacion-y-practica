{
  "cells": [
    {
      "cell_type": "markdown",
      "metadata": {
        "id": "VIIuTs8-n3cs"
      },
      "source": [
        "## Ejercicio\n",
        "\n",
        "Escribir un programa que pregunte al usuario su nombre, edad, dirección y teléfono y lo guarde en un diccionario. Despúes debe mostrar por pantalla el mensaje `<nombre> tiene <edad> años, vive en <dirección> y su número de teléfono es <teléfono>`.\n"
      ]
    },
    {
      "cell_type": "markdown",
      "metadata": {
        "id": "NnKHehoin3cv"
      },
      "source": [
        "## Solución"
      ]
    },
    {
      "cell_type": "code",
      "execution_count": null,
      "metadata": {
        "id": "TZ8nhX8Sn3cw"
      },
      "outputs": [],
      "source": [
        "persona = {}\n",
        "\n",
        "persona['nombre'] = input(\"Introduce tu nombre: \")\n",
        "persona['edad'] = input(\"Introduce tu edad: \")\n",
        "persona['direccion'] = input(\"Introduce tu dirección: \")\n",
        "persona['telefono'] = input(\"Introduce tu número de teléfono: \")\n",
        "\n",
        "print(f\"{persona['nombre']} tiene {persona['edad']} años, vive en {persona['direccion']} y su número de teléfono es {persona['telefono']}.\")\n"
      ]
    }
  ],
  "metadata": {
    "colab": {
      "provenance": []
    },
    "kernelspec": {
      "display_name": "Python 3",
      "language": "python",
      "name": "python3"
    },
    "language_info": {
      "codemirror_mode": {
        "name": "ipython",
        "version": 3
      },
      "file_extension": ".py",
      "mimetype": "text/x-python",
      "name": "python",
      "nbconvert_exporter": "python",
      "pygments_lexer": "ipython3",
      "version": "3.13.7"
    }
  },
  "nbformat": 4,
  "nbformat_minor": 0
}
