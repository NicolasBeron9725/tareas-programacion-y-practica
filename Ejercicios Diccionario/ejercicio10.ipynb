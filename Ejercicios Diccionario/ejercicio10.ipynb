{
  "cells": [
    {
      "cell_type": "markdown",
      "metadata": {
        "id": "b9CAcvWtpdcS"
      },
      "source": [
        "## Ejercicio\n",
        "\n",
        "Escribir un programa que permita gestionar la base de datos de clientes de una empresa. Los clientes se guardarán en un diccionario en el que la clave de cada cliente será su NIF, y el valor será otro diccionario con los datos del cliente (nombre, dirección, teléfono, correo, preferente), donde preferente tendrá el valor `True` si se trata de un cliente preferente. El programa debe preguntar al usuario por una opción del siguiente menú: (1) Añadir cliente, (2) Eliminar cliente, (3) Mostrar cliente, (4) Listar todos los clientes, (5) Listar clientes preferentes, (6) Terminar. En función de la opción elegida el programa tendrá que hacer lo siguiente:\n",
        "\n",
        "1. Preguntar los datos del cliente, crear un diccionario con los datos y añadirlo a la base de datos.\n",
        "2. Preguntar por el NIF del cliente y eliminar sus datos de la base de datos.\n",
        "3. Preguntar por el NIF del cliente y mostrar sus datos.\n",
        "4. Mostrar lista de todos los clientes de la base datos con su NIF y nombre.\n",
        "5. Mostrar la lista de clientes preferentes de la base de datos con su NIF y nombre.\n",
        "6. Terminar el programa."
      ]
    },
    {
      "cell_type": "markdown",
      "metadata": {
        "id": "FedkrCWzpdcV"
      },
      "source": [
        "## Solución"
      ]
    },
    {
      "cell_type": "code",
      "execution_count": null,
      "metadata": {
        "id": "xRjRc805pdcW",
        "outputId": "875eda38-934b-4a87-b103-5e8ce287cba8"
      },
      "outputs": [],
      "source": [
        "clientes = {}\n",
        "opcion = ''\n",
        "while opcion != '6':\n",
        "    opcion = input(\"1-Añadir 2-Eliminar 3-Mostrar 4-Todos 5-Preferentes 6-Salir: \")\n",
        "    if opcion == \"1\":\n",
        "        nif = input(\"NIF: \")\n",
        "        clientes[nif] = {\n",
        "            \"nombre\": input(\"Nombre: \"),\n",
        "            \"preferente\": input(\"Preferente (si/no): \") == \"si\"\n",
        "        }\n",
        "    elif opcion == \"2\":\n",
        "        clientes.pop(input(\"NIF a eliminar: \"), None)\n",
        "    elif opcion == \"3\":\n",
        "        print(clientes.get(input(\"NIF a mostrar: \"), \"No existe\"))\n",
        "    elif opcion == \"4\":\n",
        "        for nif, c in clientes.items(): print(nif, c[\"nombre\"])\n",
        "    elif opcion == \"5\":\n",
        "        for nif, c in clientes.items():\n",
        "            if c[\"preferente\"]: print(nif, c[\"nombre\"])\n"
      ]
    }
  ],
  "metadata": {
    "colab": {
      "provenance": []
    },
    "kernelspec": {
      "display_name": "Python 3",
      "language": "python",
      "name": "python3"
    },
    "language_info": {
      "codemirror_mode": {
        "name": "ipython",
        "version": 3
      },
      "file_extension": ".py",
      "mimetype": "text/x-python",
      "name": "python",
      "nbconvert_exporter": "python",
      "pygments_lexer": "ipython3",
      "version": "3.6.8"
    }
  },
  "nbformat": 4,
  "nbformat_minor": 0
}
