{
  "cells": [
    {
      "cell_type": "markdown",
      "metadata": {
        "id": "JFtnnr6UpMC4"
      },
      "source": [
        "## Ejercicio\n",
        "\n",
        "Escribir un programa que cree un diccionario de traducción español-inglés. El usuario introducirá las palabras en español e inglés separadas por dos puntos, y cada par `<palabra>:<traducción>` separados por comas. El programa debe crear un diccionario con las palabras y sus traducciones. Después pedirá una frase en español y utilizará el diccionario para traducirla palabra a palabra. Si una palabra no está en el diccionario debe dejarla sin traducir."
      ]
    },
    {
      "cell_type": "markdown",
      "metadata": {
        "id": "H1kdaQNypMC8"
      },
      "source": [
        "## Solución"
      ]
    },
    {
      "cell_type": "code",
      "execution_count": null,
      "metadata": {
        "id": "5Zt5A645pMC9"
      },
      "outputs": [],
      "source": [
        "diccionario = {}\n",
        "entrada = input(\"Palabras (ej: hola:hello, adios:bye): \")\n",
        "for par in entrada.split(\",\"):\n",
        "    palabra, traduccion = par.split(\":\")\n",
        "    diccionario[palabra] = traduccion\n",
        "\n",
        "frase = input(\"Escribe una frase en español: \")\n",
        "frase_traducida = \"\"\n",
        "for palabra in frase.split():\n",
        "    if palabra in diccionario:\n",
        "        frase_traducida += diccionario[palabra] + \" \"\n",
        "    else:\n",
        "        frase_traducida += palabra + \" \"\n",
        "print(\"Traducción:\", frase_traducida)\n",
        "\n"
      ]
    }
  ],
  "metadata": {
    "colab": {
      "provenance": []
    },
    "kernelspec": {
      "display_name": "Python 3",
      "language": "python",
      "name": "python3"
    },
    "language_info": {
      "codemirror_mode": {
        "name": "ipython",
        "version": 3
      },
      "file_extension": ".py",
      "mimetype": "text/x-python",
      "name": "python",
      "nbconvert_exporter": "python",
      "pygments_lexer": "ipython3",
      "version": "3.6.8"
    }
  },
  "nbformat": 4,
  "nbformat_minor": 0
}
