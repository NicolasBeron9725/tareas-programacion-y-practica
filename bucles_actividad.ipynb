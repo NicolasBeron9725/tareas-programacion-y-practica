{
 "cells": [
  {
   "cell_type": "markdown",
   "metadata": {},
   "source": [
    "# Bucles - Actividad\n",
    "*Ejercicios con autocorrección*"
   ]
  },
  {
   "cell_type": "code",
   "execution_count": null,
   "metadata": {},
   "outputs": [],
   "source": [
    "def ejemplo():\n",
    "    return 'ejemplo'"
   ]
  },
  {
   "cell_type": "code",
   "execution_count": null,
   "metadata": {},
   "outputs": [],
   "source": [
    "# TEST ejemplo\n",
    "try:\n",
    "    assert ejemplo() == 'ejemplo'\n",
    "    print('✓ Muy bien!')\n",
    "except AssertionError:\n",
    "    print('x Ejercicio incorrecto')"
   ]
  },
  {
   "cell_type": "markdown",
   "metadata": {},
   "source": [
    "## Ejercicio 1: Suma de los primeros n números naturales"
   ]
  },
  {
   "cell_type": "code",
   "execution_count": 1,
   "metadata": {},
   "outputs": [],
   "source": [
    "def ejercicio_1(n):\n",
    "    return sum(range(1, n+1))"
   ]
  },
  {
   "cell_type": "code",
   "execution_count": 2,
   "metadata": {},
   "outputs": [
    {
     "name": "stdout",
     "output_type": "stream",
     "text": [
      "✓ Ejercicio correcto!\n"
     ]
    }
   ],
   "source": [
    "# TEST ejercicio 1\n",
    "try:\n",
    "    assert ejercicio_1(10) == 55\n",
    "    assert ejercicio_1(5) == 15\n",
    "    print('✓ Ejercicio correcto!')\n",
    "except AssertionError:\n",
    "    print('x Ejercicio incorrecto')"
   ]
  },
  {
   "cell_type": "markdown",
   "metadata": {},
   "source": [
    "## Ejercicio 2: Contar números pares del 1 al n"
   ]
  },
  {
   "cell_type": "code",
   "execution_count": 4,
   "metadata": {},
   "outputs": [],
   "source": [
    "def ejercicio_2(n):\n",
    "    return len([x for x in range(1, n+1) if x % 2 == 0])"
   ]
  },
  {
   "cell_type": "code",
   "execution_count": 5,
   "metadata": {},
   "outputs": [
    {
     "name": "stdout",
     "output_type": "stream",
     "text": [
      "✓ Ejercicio correcto!\n"
     ]
    }
   ],
   "source": [
    "# TEST ejercicio 2\n",
    "try:\n",
    "    assert ejercicio_2(10) == 5\n",
    "    assert ejercicio_2(15) == 7\n",
    "    print('✓ Ejercicio correcto!')\n",
    "except AssertionError:\n",
    "    print('x Ejercicio incorrecto')"
   ]
  },
  {
   "cell_type": "markdown",
   "metadata": {},
   "source": [
    "## Ejercicio 3: Contar vocales en un texto"
   ]
  },
  {
   "cell_type": "code",
   "execution_count": 6,
   "metadata": {},
   "outputs": [],
   "source": [
    "def ejercicio_3(texto):\n",
    "    vocales = 'aeiouAEIOU'\n",
    "    return sum(1 for c in texto if c in vocales)"
   ]
  },
  {
   "cell_type": "code",
   "execution_count": 7,
   "metadata": {},
   "outputs": [
    {
     "name": "stdout",
     "output_type": "stream",
     "text": [
      "✓ Ejercicio correcto!\n"
     ]
    }
   ],
   "source": [
    "# TEST ejercicio 3\n",
    "try:\n",
    "    assert ejercicio_3(\"Hola, mundo\") == 4\n",
    "    assert ejercicio_3(\"AEIOUaeiou\") == 10\n",
    "    print('✓ Ejercicio correcto!')\n",
    "except AssertionError:\n",
    "    print('x Ejercicio incorrecto')"
   ]
  },
  {
   "cell_type": "markdown",
   "metadata": {},
   "source": [
    "## Ejercicio 4: Número más grande en una lista"
   ]
  },
  {
   "cell_type": "code",
   "execution_count": 8,
   "metadata": {},
   "outputs": [],
   "source": [
    "def ejercicio_4(lista_numeros):\n",
    "    return f'El numero mas grande es {max(lista_numeros)}'"
   ]
  },
  {
   "cell_type": "code",
   "execution_count": 9,
   "metadata": {},
   "outputs": [
    {
     "name": "stdout",
     "output_type": "stream",
     "text": [
      "✓ Ejercicio correcto!\n"
     ]
    }
   ],
   "source": [
    "# TEST ejercicio 4\n",
    "try:\n",
    "    assert ejercicio_4([3, 8, 1, 7, 12]) == 'El numero mas grande es 12'\n",
    "    assert ejercicio_4([17, 22, 4, 9, 5, 25, 10]) == 'El numero mas grande es 25'\n",
    "    print('✓ Ejercicio correcto!')\n",
    "except AssertionError:\n",
    "    print('x Ejercicio incorrecto')"
   ]
  },
  {
   "cell_type": "markdown",
   "metadata": {},
   "source": [
    "## Ejercicio 5: Números primos hasta n"
   ]
  },
  {
   "cell_type": "code",
   "execution_count": 10,
   "metadata": {},
   "outputs": [],
   "source": [
    "def ejercicio_5(n):\n",
    "    primos = []\n",
    "    for num in range(2, n+1):\n",
    "        es_primo = True\n",
    "        for i in range(2, int(num**0.5)+1):\n",
    "            if num % i == 0:\n",
    "                es_primo = False\n",
    "                break\n",
    "        if es_primo:\n",
    "            primos.append(num)\n",
    "    return primos"
   ]
  },
  {
   "cell_type": "code",
   "execution_count": 11,
   "metadata": {},
   "outputs": [
    {
     "name": "stdout",
     "output_type": "stream",
     "text": [
      "✓ Ejercicio correcto!\n"
     ]
    }
   ],
   "source": [
    "# TEST ejercicio 5\n",
    "try:\n",
    "    assert ejercicio_5(10) == [2, 3, 5, 7]\n",
    "    assert ejercicio_5(20) == [2, 3, 5, 7, 11, 13, 17, 19]\n",
    "    print('✓ Ejercicio correcto!')\n",
    "except AssertionError:\n",
    "    print('x Ejercicio incorrecto')"
   ]
  },
  {
   "cell_type": "markdown",
   "metadata": {},
   "source": [
    "## Ejercicio 6: Palíndromo"
   ]
  },
  {
   "cell_type": "code",
   "execution_count": 12,
   "metadata": {},
   "outputs": [],
   "source": [
    "def ejercicio_6(palabra):\n",
    "    palabra = palabra.lower()\n",
    "    return palabra == palabra[::-1]"
   ]
  },
  {
   "cell_type": "code",
   "execution_count": 13,
   "metadata": {},
   "outputs": [
    {
     "name": "stdout",
     "output_type": "stream",
     "text": [
      "✓ Ejercicio correcto!\n"
     ]
    }
   ],
   "source": [
    "# TEST ejercicio 6\n",
    "try:\n",
    "    assert ejercicio_6(\"sometemos\") == True\n",
    "    assert ejercicio_6(\"arenera\") == True\n",
    "    assert ejercicio_6(\"holamundo\") == False\n",
    "    assert ejercicio_6(\"python\") == False\n",
    "    assert ejercicio_6(\"reconocer\") == True\n",
    "    print('✓ Ejercicio correcto!')\n",
    "except AssertionError:\n",
    "    print('x Ejercicio incorrecto')"
   ]
  },
  {
   "cell_type": "markdown",
   "metadata": {},
   "source": [
    "## Ejercicio 7: Nombres que empiezan con una letra"
   ]
  },
  {
   "cell_type": "code",
   "execution_count": 14,
   "metadata": {},
   "outputs": [],
   "source": [
    "def ejercicio_7(letra, lista_nombres):\n",
    "    return [nombre for nombre in lista_nombres if nombre.startswith(letra)]"
   ]
  },
  {
   "cell_type": "code",
   "execution_count": 15,
   "metadata": {},
   "outputs": [
    {
     "name": "stdout",
     "output_type": "stream",
     "text": [
      "✓ Ejercicio correcto!\n"
     ]
    }
   ],
   "source": [
    "# TEST ejercicio 7\n",
    "try:\n",
    "    assert ejercicio_7(\"A\", [\"Ana\", \"Juan\", \"Pedro\", \"Amanda\", \"Pablo\", \"Alfredo\"]) == [\"Ana\", \"Amanda\", \"Alfredo\"]\n",
    "    assert ejercicio_7(\"J\", [\"Ana\", \"Juan\", \"Pedro\", \"Amanda\", \"Pablo\", \"Alfredo\"]) == [\"Juan\"]\n",
    "    assert ejercicio_7(\"P\", [\"Ana\", \"Juan\", \"Pedro\", \"Amanda\", \"Pablo\", \"Alfredo\"]) == [\"Pedro\", \"Pablo\"]\n",
    "    assert ejercicio_7(\"Z\", [\"Ana\", \"Juan\", \"Pedro\", \"Amanda\", \"Pablo\", \"Alfredo\"]) == []\n",
    "    print('✓ Ejercicio correcto!')\n",
    "except AssertionError:\n",
    "    print('x Ejercicio incorrecto')"
   ]
  },
  {
   "cell_type": "markdown",
   "metadata": {},
   "source": [
    "## Ejercicio 8: Encontrar salida de un laberinto"
   ]
  },
  {
   "cell_type": "code",
   "execution_count": 16,
   "metadata": {},
   "outputs": [],
   "source": [
    "def ejercicio_8(laberinto):\n",
    "    for i, fila in enumerate(laberinto):\n",
    "        for j, celda in enumerate(fila):\n",
    "            if celda == 'S':\n",
    "                return (i, j)"
   ]
  },
  {
   "cell_type": "code",
   "execution_count": 17,
   "metadata": {},
   "outputs": [
    {
     "name": "stdout",
     "output_type": "stream",
     "text": [
      "✓ Ejercicio correcto!\n"
     ]
    }
   ],
   "source": [
    "# TEST ejercicio 8\n",
    "try:\n",
    "    assert ejercicio_8([\n",
    "        [\"#\",\"#\",\"#\",\"#\",\"#\",\"#\",\"#\",\"#\",\"#\",\"#\",\"#\",\"#\",\"#\",\"#\",\"#\",\"#\"],\n",
    "        [\"#\",\" \",\" \",\" \",\" \",\" \",\" \",\" \",\" \",\" \",\" \",\" \",\" \",\" \",\" \",\"#\"],\n",
    "        [\"#\",\" \",\"#\",\"#\",\"#\",\"#\",\"#\",\"#\",\"#\",\"#\",\" \",\"#\",\"#\",\"#\",\" \",\"#\"],\n",
    "        [\"#\",\" \",\"#\",\" \",\" \",\" \",\" \",\" \",\" \",\"#\",\" \",\"#\",\" \",\" \",\" \",\"#\"],\n",
    "        [\"#\",\" \",\"#\",\" \",\"#\",\"#\",\"#\",\"#\",\" \",\"#\",\" \",\"#\",\" \",\"#\",\"#\",\"#\"],\n",
    "        [\"#\",\" \",\"#\",\" \",\"#\",\" \",\" \",\" \",\" \",\"#\",\" \",\"#\",\" \",\" \",\" \",\"#\"],\n",
    "        [\"#\",\" \",\"#\",\" \",\"#\",\" \",\"#\",\"#\",\"#\",\"#\",\" \",\"#\",\"#\",\"#\",\" \",\"#\"],\n",
    "        [\"#\",\" \",\"#\",\" \",\"#\",\" \",\"#\",\" \",\" \",\" \",\" \",\" \",\" \",\" \",\" \",\"#\"],\n",
    "        [\"#\",\" \",\"#\",\" \",\"#\",\" \",\"#\",\" \",\"#\",\"#\",\"#\",\"#\",\"#\",\"#\",\"#\",\"#\"],\n",
    "        [\"#\",\" \",\"#\",\" \",\"#\",\" \",\"#\",\" \",\" \",\" \",\" \",\" \",\" \",\" \",\" \",\"#\"],\n",
    "        [\"#\",\" \",\"#\",\" \",\"#\",\" \",\"#\",\" \",\"#\",\"#\",\"#\",\"#\",\" \",\"#\",\" \",\"#\"],\n",
    "        [\"#\",\" \",\"#\",\" \",\"#\",\" \",\"#\",\" \",\"#\",\" \",\" \",\" \",\" \",\"#\",\" \",\"#\"],\n",
    "        [\"#\",\" \",\"#\",\" \",\"#\",\" \",\"#\",\" \",\"#\",\"#\",\"#\",\"#\",\" \",\"#\",\" \",\"#\"],\n",
    "        [\"#\",\" \",\"#\",\" \",\"#\",\" \",\" \",\" \",\" \",\" \",\" \",\"#\",\" \",\"#\",\" \",\"#\"],\n",
    "        [\"#\",\" \",\"#\",\" \",\"#\",\"#\",\"#\",\"#\",\"#\",\"#\",\"#\",\"#\",\" \",\"#\",\" \",\"#\"],\n",
    "        [\"#\",\" \",\" \",\" \",\" \",\" \",\" \",\" \",\" \",\" \",\" \",\" \",\" \",\"#\",\" \",\"#\"],\n",
    "        [\"#\",\"#\",\"#\",\"#\",\"#\",\"#\",\"#\",\"#\",\"#\",\"#\",\"#\",\"#\",\"#\",\"#\",\"S\",\"#\"]\n",
    "    ]) == (16, 14)\n",
    "    print('✓ Ejercicio correcto!')\n",
    "except AssertionError:\n",
    "    print('x Ejercicio incorrecto')"
   ]
  }
 ],
 "metadata": {
  "kernelspec": {
   "display_name": "Python 3",
   "language": "python",
   "name": "python3"
  },
  "language_info": {
   "codemirror_mode": {
    "name": "ipython",
    "version": 3
   },
   "file_extension": ".py",
   "mimetype": "text/x-python",
   "name": "python",
   "nbconvert_exporter": "python",
   "pygments_lexer": "ipython3",
   "version": "3.13.7"
  }
 },
 "nbformat": 4,
 "nbformat_minor": 2
}
