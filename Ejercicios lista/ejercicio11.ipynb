{
  "cells": [
    {
      "cell_type": "markdown",
      "metadata": {
        "id": "QcOkZZn33K6U"
      },
      "source": [
        "## Ejercicio\n",
        "\n",
        "Escribir un programa que almacene los vectores (1,2,3) y (-1,0,2) en dos tuplas y muestre por pantalla su producto escalar."
      ]
    },
    {
      "cell_type": "markdown",
      "metadata": {
        "id": "-byeZMO83K6W"
      },
      "source": [
        "## Solución"
      ]
    },
    {
      "cell_type": "code",
      "execution_count": 2,
      "metadata": {
        "id": "AfjIAhC33K6X"
      },
      "outputs": [
        {
          "name": "stdout",
          "output_type": "stream",
          "text": [
            "El producto escalar de a y b es: 5\n"
          ]
        }
      ],
      "source": [
        "a = (1, 2, 3)\n",
        "b = (-1, 0, 2)\n",
        "\n",
        "producto_escalar = 0\n",
        "for i in range(len(a)):\n",
        "    producto_escalar += a[i] * b[i]\n",
        "print(\"El producto escalar de a y b es:\", producto_escalar)"
      ]
    }
  ],
  "metadata": {
    "colab": {
      "provenance": []
    },
    "kernelspec": {
      "display_name": "Python 3",
      "language": "python",
      "name": "python3"
    },
    "language_info": {
      "codemirror_mode": {
        "name": "ipython",
        "version": 3
      },
      "file_extension": ".py",
      "mimetype": "text/x-python",
      "name": "python",
      "nbconvert_exporter": "python",
      "pygments_lexer": "ipython3",
      "version": "3.13.7"
    }
  },
  "nbformat": 4,
  "nbformat_minor": 0
}
