{
  "cells": [
    {
      "cell_type": "markdown",
      "metadata": {
        "id": "VMK-BTL22A_e"
      },
      "source": [
        "## Ejercicio\n",
        "\n",
        "Escribir un programa que almacene en una lista los números del 1 al 10 y los muestre por pantalla en orden inverso separados por comas."
      ]
    },
    {
      "cell_type": "markdown",
      "metadata": {
        "id": "YoyDVoEm2A_g"
      },
      "source": [
        "## Solución 1"
      ]
    },
    {
      "cell_type": "code",
      "execution_count": 3,
      "metadata": {
        "id": "pskUOzPE2A_h"
      },
      "outputs": [
        {
          "name": "stdout",
          "output_type": "stream",
          "text": [
            "10, 9, 8, 7, 6, 5, 4, 3, 2, 1\n"
          ]
        }
      ],
      "source": [
        "numeros = [1,2,3,4,5,6,7,8,9,10]\n",
        "inverso = []\n",
        "for i in range(len(numeros)-1, -1, -1):\n",
        "    inverso.append(numeros[i])\n",
        "\n",
        "for i in range(len(inverso)):\n",
        "    if i < len(inverso) - 1:\n",
        "        print(inverso[i], end=\", \")\n",
        "    else:\n",
        "        print(inverso[i])\n",
        "\n"
      ]
    },
    {
      "cell_type": "markdown",
      "metadata": {
        "id": "nDAK0zCh2A_i"
      },
      "source": [
        "## Solución 2"
      ]
    },
    {
      "cell_type": "code",
      "execution_count": 1,
      "metadata": {
        "id": "ccxcWVMF2A_i"
      },
      "outputs": [
        {
          "name": "stdout",
          "output_type": "stream",
          "text": [
            "10, 9, 8, 7, 6, 5, 4, 3, 2, 1\n"
          ]
        }
      ],
      "source": [
        "numeros = list(range(1, 11))\n",
        "inverso = []\n",
        "for i in range(len(numeros)-1, -1, -1):\n",
        "    inverso.append(numeros[i])\n",
        "\n",
        "print(\", \".join(str(n) for n in inverso))\n"
      ]
    }
  ],
  "metadata": {
    "colab": {
      "provenance": []
    },
    "kernelspec": {
      "display_name": "Python 3",
      "language": "python",
      "name": "python3"
    },
    "language_info": {
      "codemirror_mode": {
        "name": "ipython",
        "version": 3
      },
      "file_extension": ".py",
      "mimetype": "text/x-python",
      "name": "python",
      "nbconvert_exporter": "python",
      "pygments_lexer": "ipython3",
      "version": "3.13.7"
    }
  },
  "nbformat": 4,
  "nbformat_minor": 0
}
