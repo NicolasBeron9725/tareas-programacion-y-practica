{
  "cells": [
    {
      "cell_type": "markdown",
      "metadata": {
        "id": "OhV9Y3Tq1n1o"
      },
      "source": [
        "## Ejercicio\n",
        "\n",
        "Escribir un programa que almacene las asignaturas de un curso (por ejemplo Matemáticas, Física, Química, Historia y Lengua) en una lista y la muestre por pantalla."
      ]
    },
    {
      "cell_type": "markdown",
      "metadata": {
        "id": "F5eQLNmP1n1q"
      },
      "source": [
        "## Solución"
      ]
    },
    {
      "cell_type": "code",
      "execution_count": null,
      "metadata": {
        "id": "1baTmyWP1n1q"
      },
      "outputs": [
        {
          "name": "stdout",
          "output_type": "stream",
          "text": [
            "Matemáticas\n",
            "Física\n",
            "Química\n",
            "Historia\n",
            "Lengua\n"
          ]
        }
      ],
      "source": [
        "asignaturas = []\n",
        "for i in range(5):\n",
        "    materia = input(f\"Ingresa la asignatura {i+1}: \")\n",
        "    asignaturas.append(materia)\n",
        "\n",
        "print(\"Tus asignaturas son:\")\n",
        "for materia in asignaturas:\n",
        "    print(materia)\n"
      ]
    }
  ],
  "metadata": {
    "colab": {
      "provenance": []
    },
    "kernelspec": {
      "display_name": "Python 3",
      "language": "python",
      "name": "python3"
    },
    "language_info": {
      "codemirror_mode": {
        "name": "ipython",
        "version": 3
      },
      "file_extension": ".py",
      "mimetype": "text/x-python",
      "name": "python",
      "nbconvert_exporter": "python",
      "pygments_lexer": "ipython3",
      "version": "3.13.7"
    }
  },
  "nbformat": 4,
  "nbformat_minor": 0
}
