{
  "cells": [
    {
      "cell_type": "markdown",
      "metadata": {
        "id": "cEzbMR582OaU"
      },
      "source": [
        "## Ejercicio\n",
        "\n",
        "Escribir un programa que almacene las asignaturas de un curso (por ejemplo Matemáticas, Física, Química, Historia y Lengua) en una lista, pregunte al usuario la nota que ha sacado en cada asignatura y elimine de la lista las asignaturas aprobadas. Al final el programa debe mostrar por pantalla las asignaturas que el usuario tiene que repetir."
      ]
    },
    {
      "cell_type": "markdown",
      "metadata": {
        "id": "7bz_qk_Y2OaW"
      },
      "source": [
        "## Solución 1"
      ]
    },
    {
      "cell_type": "code",
      "execution_count": 3,
      "metadata": {
        "id": "2en5hKcz2OaW"
      },
      "outputs": [
        {
          "name": "stdout",
          "output_type": "stream",
          "text": [
            "Debes repetir las siguientes asignaturas:\n",
            "Matemáticas\n",
            "Física\n"
          ]
        }
      ],
      "source": [
        "asignaturas = [\"Matemáticas\", \"Física\", \"Química\", \"Historia\", \"Lengua\"]\n",
        "\n",
        "print(\"Debes repetir las siguientes asignaturas:\")\n",
        "\n",
        "for materia in asignaturas:\n",
        "    nota = float(input(f\"Ingresa la nota de {materia}: \"))\n",
        "    if nota < 6:\n",
        "        print(materia)\n"
      ]
    },
    {
      "cell_type": "markdown",
      "metadata": {
        "id": "wQmuaOq52OaX"
      },
      "source": [
        "## Solución 2"
      ]
    },
    {
      "cell_type": "code",
      "execution_count": null,
      "metadata": {
        "id": "SEi3_nLL2OaY"
      },
      "outputs": [],
      "source": [
        "asignaturas = [\"Matemáticas\", \"Física\", \"Química\", \"Historia\", \"Lengua\"]\n",
        "\n",
        "for materia in asignaturas[:]:\n",
        "    nota = float(input(f\"Ingresa la nota de {materia}: \"))\n",
        "    if nota >= 6:  \n",
        "        asignaturas.remove(materia)\n",
        "\n",
        "print(\"\\nDebes repetir las siguientes asignaturas:\")\n",
        "for materia in asignaturas:\n",
        "    print(materia)\n"
      ]
    }
  ],
  "metadata": {
    "colab": {
      "provenance": []
    },
    "kernelspec": {
      "display_name": "Python 3",
      "language": "python",
      "name": "python3"
    },
    "language_info": {
      "codemirror_mode": {
        "name": "ipython",
        "version": 3
      },
      "file_extension": ".py",
      "mimetype": "text/x-python",
      "name": "python",
      "nbconvert_exporter": "python",
      "pygments_lexer": "ipython3",
      "version": "3.13.7"
    }
  },
  "nbformat": 4,
  "nbformat_minor": 0
}
