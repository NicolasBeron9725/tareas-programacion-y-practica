{
  "cells": [
    {
      "cell_type": "markdown",
      "metadata": {
        "id": "F8Y-HsdD13rq"
      },
      "source": [
        "## Ejercicio\n",
        "\n",
        "Escribir un programa que pregunte al usuario los números ganadores de la lotería primitiva, los almacene en una lista y los muestre por pantalla ordenados de menor a mayor."
      ]
    },
    {
      "cell_type": "markdown",
      "metadata": {
        "id": "yBtykLSX13rs"
      },
      "source": [
        "## Solución 1"
      ]
    },
    {
      "cell_type": "code",
      "execution_count": null,
      "metadata": {
        "id": "_-ml5x9p13rs"
      },
      "outputs": [],
      "source": [
        "lista_numeros = []\n",
        "salir = False\n",
        "\n",
        "while not salir:\n",
        "print(\" --- MENU --- \")\n",
        "print(\"1. Ingresar número ganador\")\n",
        "print(\"2. Salir\")\n",
        "opcion = int(input(\"Opción: \"))\n",
        "if opcion == 1:\n",
        "numero = int(input(\"Ingrese el número: \"))\n",
        "lista_numeros.append(numero)\n",
        "    elif opcion == 2:\n",
        "salir = True\n",
        "    else:\n",
        "print(\"Opción incorrecta!\")\n",
        "\n",
        "lista_numeros.sort()\n",
        "print(\"Números ganadores ingresados:\", lista_numeros)\n"
      ]
    }
  ],
  "metadata": {
    "colab": {
      "provenance": []
    },
    "kernelspec": {
      "display_name": "Python 3",
      "language": "python",
      "name": "python3"
    },
    "language_info": {
      "codemirror_mode": {
        "name": "ipython",
        "version": 3
      },
      "file_extension": ".py",
      "mimetype": "text/x-python",
      "name": "python",
      "nbconvert_exporter": "python",
      "pygments_lexer": "ipython3",
      "version": "3.13.7"
    }
  },
  "nbformat": 4,
  "nbformat_minor": 0
}
