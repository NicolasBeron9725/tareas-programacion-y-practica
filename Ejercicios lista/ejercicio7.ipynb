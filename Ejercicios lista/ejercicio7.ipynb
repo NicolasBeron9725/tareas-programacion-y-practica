{
  "cells": [
    {
      "cell_type": "markdown",
      "metadata": {
        "id": "e2lNyfJd2hnr"
      },
      "source": [
        "## Ejercicio\n",
        "\n",
        "Escribir un programa que almacene el abecedario en una lista, elimine de la lista las letras que ocupen posiciones múltiplos de 3, y muestre por pantalla la lista resultante."
      ]
    },
    {
      "cell_type": "markdown",
      "metadata": {
        "id": "E2t3Ijd52hnt"
      },
      "source": [
        "## Solución 1"
      ]
    },
    {
      "cell_type": "code",
      "execution_count": 5,
      "metadata": {
        "id": "ctEUvrHZ2hnt"
      },
      "outputs": [
        {
          "name": "stdout",
          "output_type": "stream",
          "text": [
            "Abecedario modificado:\n",
            "a b d e g h j k m n o p r s u v x y "
          ]
        }
      ],
      "source": [
        "alphabet = ['a', 'b', 'c', 'd', 'e', 'f', 'g', 'h', 'i', 'j', 'k', 'l', 'm', 'n', 'ñ', 'o', 'p', 'q', 'r', 's', 't', 'u', 'v', 'w', 'x', 'y', 'z']\n",
        "\n",
        "print(\"Abecedario modificado:\")\n",
        "\n",
        "for i in range(len(alphabet)):\n",
        "    if (i+1) % 3 != 0:\n",
        "        print(alphabet[i], end=\" \")\n",
        "\n"
      ]
    },
    {
      "cell_type": "markdown",
      "metadata": {
        "id": "VRjEsFgd2hnv"
      },
      "source": [
        "## Solución 2"
      ]
    },
    {
      "cell_type": "code",
      "execution_count": 2,
      "metadata": {
        "id": "EYFYFbCi2hnw"
      },
      "outputs": [
        {
          "name": "stdout",
          "output_type": "stream",
          "text": [
            "Abecedario modificado: ['a', 'b', 'd', 'e', 'g', 'h', 'j', 'k', 'm', 'n', 'o', 'p', 'r', 's', 'u', 'v', 'x', 'y']\n"
          ]
        }
      ],
      "source": [
        "alphabet = ['a', 'b', 'c', 'd', 'e', 'f', 'g', 'h', 'i', 'j', 'k', 'l', 'm', 'n', 'ñ', 'o', 'p', 'q', 'r', 's', 't', 'u', 'v', 'w', 'x', 'y', 'z']\n",
        "nuevo_alphabet = []\n",
        "\n",
        "for i in range(len(alphabet)):\n",
        "    if (i+1) % 3 != 0:\n",
        "        nuevo_alphabet.append(alphabet[i])\n",
        "\n",
        "print(\"Abecedario modificado:\", nuevo_alphabet)\n"
      ]
    }
  ],
  "metadata": {
    "colab": {
      "provenance": []
    },
    "kernelspec": {
      "display_name": "Python 3",
      "language": "python",
      "name": "python3"
    },
    "language_info": {
      "codemirror_mode": {
        "name": "ipython",
        "version": 3
      },
      "file_extension": ".py",
      "mimetype": "text/x-python",
      "name": "python",
      "nbconvert_exporter": "python",
      "pygments_lexer": "ipython3",
      "version": "3.13.7"
    }
  },
  "nbformat": 4,
  "nbformat_minor": 0
}
