{
  "cells": [
    {
      "cell_type": "markdown",
      "metadata": {
        "id": "SLY0PDmP3mKf"
      },
      "source": [
        "## Ejercicio\n",
        "\n",
        "Escribir un programa que pregunte por una muestra de números, separados por comas, los guarde en una tupla y muestre por pantalla su media y desviación típica."
      ]
    },
    {
      "cell_type": "markdown",
      "metadata": {
        "id": "v3IuljFH3mKh"
      },
      "source": [
        "## Solución"
      ]
    },
    {
      "cell_type": "code",
      "execution_count": 1,
      "metadata": {
        "id": "qHS3r-Q23mKh"
      },
      "outputs": [
        {
          "name": "stdout",
          "output_type": "stream",
          "text": [
            "Tupla de números: (2.0, 4.0, 1.0, 8.0)\n",
            "Media: 3.75\n",
            "Desviación típica: 2.680951323690902\n"
          ]
        }
      ],
      "source": [
        "sample = input(\"Introduce una muestra de números separados por comas: \")\n",
        "sample = sample.split(',')\n",
        "for i in range(len(sample)):\n",
        "    sample[i] = float(sample[i])\n",
        "numeros = tuple(sample)\n",
        "n = len(numeros)\n",
        "suma = 0\n",
        "for num in numeros:\n",
        "    suma += num\n",
        "media = suma / n\n",
        "suma_cuadrados = 0\n",
        "for num in numeros:\n",
        "    suma_cuadrados += (num - media) ** 2\n",
        "desviacion = (suma_cuadrados / n) ** 0.5\n",
        "\n",
        "print(\"Tupla de números:\", numeros)\n",
        "print(\"Media:\", media)\n",
        "print(\"Desviación típica:\", desviacion)\n"
      ]
    }
  ],
  "metadata": {
    "colab": {
      "provenance": []
    },
    "kernelspec": {
      "display_name": "Python 3",
      "language": "python",
      "name": "python3"
    },
    "language_info": {
      "codemirror_mode": {
        "name": "ipython",
        "version": 3
      },
      "file_extension": ".py",
      "mimetype": "text/x-python",
      "name": "python",
      "nbconvert_exporter": "python",
      "pygments_lexer": "ipython3",
      "version": "3.13.7"
    }
  },
  "nbformat": 4,
  "nbformat_minor": 0
}
